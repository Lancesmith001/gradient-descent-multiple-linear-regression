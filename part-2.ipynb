{
 "cells": [
  {
   "cell_type": "code",
   "execution_count": 17,
   "metadata": {},
   "outputs": [],
   "source": [
    "import numpy as np\n",
    "import matplotlib.pyplot as plt\n",
    "import scipy.stats as scs\n",
    "import plotly.plotly as py\n",
    "import plotly.graph_objs as go\n",
    "\n",
    "%matplotlib inline"
   ]
  },
  {
   "cell_type": "markdown",
   "metadata": {},
   "source": [
    "![gradent descent](descent.png)"
   ]
  },
  {
   "cell_type": "markdown",
   "metadata": {},
   "source": [
    "# data"
   ]
  },
  {
   "cell_type": "code",
   "execution_count": 18,
   "metadata": {},
   "outputs": [],
   "source": [
    "xs = np.linspace(1, 10)\n",
    "noise = scs.norm(0, 2).rvs(50)\n",
    "ys = 3 * xs + 5 + noise"
   ]
  },
  {
   "cell_type": "code",
   "execution_count": 19,
   "metadata": {},
   "outputs": [
    {
     "data": {
      "image/png": "[encoded data removed]",
      "text/plain": [
       "<Figure size 432x288 with 1 Axes>"
      ]
     },
     "metadata": {
      "needs_background": "light"
     },
     "output_type": "display_data"
    }
   ],
   "source": [
    "plt.scatter(xs, ys)\n",
    "plt.show()"
   ]
  },
  {
   "cell_type": "code",
   "execution_count": 20,
   "metadata": {},
   "outputs": [],
   "source": [
    "means = []\n",
    "for b0 in range(0, 10):\n",
    "    ms = []\n",
    "    means.append(ms)\n",
    "    for b1 in range(-3, 7):\n",
    "        ms.append(((ys - (b1*xs + b0)) ** 2).mean())"
   ]
  },
  {
   "cell_type": "code",
   "execution_count": 22,
   "metadata": {},
   "outputs": [
    {
     "data": {
      "text/html": [
       "<iframe id=\"igraph\" scrolling=\"no\" style=\"border:none;\" seamless=\"seamless\" src=\"https://plot.ly/~chyld/12.embed\" height=\"700px\" width=\"700px\"></iframe>"
      ],
      "text/plain": [
       "<plotly.tools.PlotlyDisplay object>"
      ]
     },
     "execution_count": 22,
     "metadata": {},
     "output_type": "execute_result"
    }
   ],
   "source": [
    "data = [\n",
    "    go.Surface(\n",
    "        x = list(range(-3, 7)),\n",
    "        y = list(range(0, 10)),\n",
    "        z = np.array(means)\n",
    "    )\n",
    "]\n",
    "\n",
    "layout = go.Layout(\n",
    "    title='Loss as f(b0, b1)',\n",
    "    autosize=False,\n",
    "    width=700,\n",
    "    height=700\n",
    ")\n",
    "fig = go.Figure(data=data, layout=layout)\n",
    "py.iplot(fig)"
   ]
  },
  {
   "cell_type": "markdown",
   "metadata": {},
   "source": [
    "# derivative"
   ]
  },
  {
   "cell_type": "code",
   "execution_count": 23,
   "metadata": {},
   "outputs": [],
   "source": [
    "b0 = 10\n",
    "b1 = 18"
   ]
  },
  {
   "cell_type": "code",
   "execution_count": 26,
   "metadata": {},
   "outputs": [
    {
     "data": {
      "text/plain": [
       "9303.891514193147"
      ]
     },
     "execution_count": 26,
     "metadata": {},
     "output_type": "execute_result"
    }
   ],
   "source": [
    "# loss, mse\n",
    "((ys - (b1*xs + b0)) ** 2).mean()"
   ]
  },
  {
   "cell_type": "code",
   "execution_count": 27,
   "metadata": {},
   "outputs": [],
   "source": [
    "def slope(ys, yhs, xs):\n",
    "    return -2 * xs * (ys - yhs)"
   ]
  },
  {
   "cell_type": "code",
   "execution_count": 29,
   "metadata": {},
   "outputs": [
    {
     "data": {
      "text/plain": [
       "array([  34.91577484,   52.65011353,   65.28857642,   91.72565449,\n",
       "        113.77485453,  132.30487445,  153.06796257,  179.53224818,\n",
       "        197.79922038,  237.61802247,  266.62050932,  289.80419026,\n",
       "        331.2120677 ,  390.36856425,  420.71839353,  445.23176847,\n",
       "        517.79307976,  558.94118842,  597.1788514 ,  688.63715781,\n",
       "        721.82148924,  772.73528334,  842.77082619,  855.70357424,\n",
       "        953.6358736 ,  973.10803404, 1043.60057273, 1116.5353916 ,\n",
       "       1199.56476517, 1264.2102273 , 1306.42508137, 1413.24264043,\n",
       "       1494.34647495, 1550.68482576, 1694.80474391, 1720.78190711,\n",
       "       1841.75363819, 1885.43494331, 2011.26223427, 2038.86214675,\n",
       "       2201.11888107, 2299.97276659, 2387.05132086, 2527.90762054,\n",
       "       2588.55437027, 2672.11822456, 2763.47908383, 2878.8394613 ,\n",
       "       3006.27638921, 3077.19183001])"
      ]
     },
     "execution_count": 29,
     "metadata": {},
     "output_type": "execute_result"
    }
   ],
   "source": [
    "slopes = slope(ys, (b1*xs + b0), xs)\n",
    "slopes"
   ]
  },
  {
   "cell_type": "markdown",
   "metadata": {},
   "source": [
    "# find average slope"
   ]
  },
  {
   "cell_type": "code",
   "execution_count": 33,
   "metadata": {},
   "outputs": [
    {
     "data": {
      "text/plain": [
       "1.177379553890187"
      ]
     },
     "execution_count": 33,
     "metadata": {},
     "output_type": "execute_result"
    }
   ],
   "source": [
    "# learning rate, alpha\n",
    "delta = 0.001 * slopes.mean()\n",
    "delta"
   ]
  },
  {
   "cell_type": "code",
   "execution_count": 34,
   "metadata": {},
   "outputs": [
    {
     "data": {
      "text/plain": [
       "16.822620446109813"
      ]
     },
     "execution_count": 34,
     "metadata": {},
     "output_type": "execute_result"
    }
   ],
   "source": [
    "b1 - delta"
   ]
  },
  {
   "cell_type": "code",
   "execution_count": null,
   "metadata": {},
   "outputs": [],
   "source": []
  }
 ],
 "metadata": {
  "kernelspec": {
   "display_name": "Python 3",
   "language": "python",
   "name": "python3"
  },
  "language_info": {
   "codemirror_mode": {
    "name": "ipython",
    "version": 3
   },
   "file_extension": ".py",
   "mimetype": "text/x-python",
   "name": "python",
   "nbconvert_exporter": "python",
   "pygments_lexer": "ipython3",
   "version": "3.7.3"
  }
 },
 "nbformat": 4,
 "nbformat_minor": 2
}
