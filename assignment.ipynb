{
 "cells": [
  {
   "cell_type": "markdown",
   "metadata": {},
   "source": [
    "# Gradient Descent"
   ]
  },
  {
   "cell_type": "markdown",
   "metadata": {},
   "source": [
    "### Steps\n",
    "\n",
    "- Create a list of 50 x1-values from 10 to 20\n",
    "- Create a list of 50 x2-values from -30 to 5 \n",
    "- Create a list of y-values defined as follows\n",
    "  - B0 = 3.5\n",
    "  - B1 = 17\n",
    "  - B2 = -21\n",
    "  - ys = 17x1 - 21x2 + 3.5\n",
    "- Start out with B0, B1, B2 = 0.1\n",
    "- Write an equation for the loss wrt B0, B1, B2\n",
    "- Write 3 equations showing the partial derivative of Loss wrt B0, B1, B2\n",
    "- Implement a Gradient Descent algorithm that will iteratively reduce the loss as the coefficients approach their true values"
   ]
  },
  {
   "cell_type": "code",
   "execution_count": null,
   "metadata": {},
   "outputs": [],
   "source": []
  }
 ],
 "metadata": {
  "kernelspec": {
   "display_name": "Python 3",
   "language": "python",
   "name": "python3"
  },
  "language_info": {
   "codemirror_mode": {
    "name": "ipython",
    "version": 3
   },
   "file_extension": ".py",
   "mimetype": "text/x-python",
   "name": "python",
   "nbconvert_exporter": "python",
   "pygments_lexer": "ipython3",
   "version": "3.7.3"
  }
 },
 "nbformat": 4,
 "nbformat_minor": 2
}
